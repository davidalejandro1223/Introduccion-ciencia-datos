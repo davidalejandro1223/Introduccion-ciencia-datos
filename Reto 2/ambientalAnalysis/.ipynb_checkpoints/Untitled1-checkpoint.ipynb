{
 "cells": [
  {
   "cell_type": "code",
   "execution_count": 1,
   "metadata": {},
   "outputs": [],
   "source": [
    "import pandas as pd\n",
    "import numpy as np\n",
    "import tweepy\n",
    "import json\n",
    "import matplotlib.pyplot as plt"
   ]
  },
  {
   "cell_type": "code",
   "execution_count": 2,
   "metadata": {},
   "outputs": [],
   "source": [
    "consumer_key = 'stKuSL7WMShoaR0Se9fwHIkjW'\n",
    "consumer_secret = 'aIvT6hm6GqxaW0BfPe0VUZcwJJEHDebIawU9N9B8KGAckiog1Q'\n",
    "access_token = '293588703-08HTWRdhrTGkI4zjdlApfsy8tmPsqrGeigDubOqf'\n",
    "access_token_secret = 'Pvkfl4zA5RsGo8uBbX2GKHxEUnRKR01kYGh7IQVj805sv'\n",
    "auth = tweepy.OAuthHandler(consumer_key, consumer_secret)\n",
    "auth.set_access_token(access_token, access_token_secret)\n",
    "api = tweepy.API(auth, wait_on_rate_limit=True)"
   ]
  },
  {
   "cell_type": "code",
   "execution_count": null,
   "metadata": {},
   "outputs": [],
   "source": [
    "list_U = ['Proarbol_Col', 'FNAmbiental', 'fundacionnatura', 'inst_humboldt', 'WWFColombia', 'ricardolozanop', 'mafsul', 'MinMinas', 'MinAmbienteCo']\n",
    "list_H = ['NoAlFracking', 'Fracking', 'Ambiente', 'Asbesto', 'ColombiaSinAsbesto', 'MedioAmbiente', 'Contaminacion', 'Plasticos']\n",
    "\n",
    "list_of_tweets = []\n",
    "c=0\n",
    "for i in list_U:\n",
    "    for j in list_H:\n",
    "        consul = tweepy.Cursor(api.search, q='from:'+str(i)+' '+str(j)).items()\n",
    "        for tweet in consul:\n",
    "            dict_ = {'User': tweet.user.name,\n",
    "                     'User_Name': tweet.user.screen_name,\n",
    "                     'Text': tweet.text,\n",
    "                     'Hashtag': j\n",
    "                    }\n",
    "            list_of_tweets.append(dict_)\n",
    "            #c+=1\n",
    "            #print('add '+str(c))\n",
    "    \n",
    "df1 = pd.DataFrame(list_of_tweets, columns=['User', 'User_Name', 'Text', 'Hashtag'])\n",
    "\n",
    "df1"
   ]
  },
  {
   "cell_type": "code",
   "execution_count": null,
   "metadata": {},
   "outputs": [],
   "source": [
    "dff = df.groupby(['User'])['Hashtag'].value_counts().to_frame('count_hashtag')\n",
    "us = df['User']\n",
    "ha = df['Hashtag']\n"
   ]
  },
  {
   "cell_type": "code",
   "execution_count": null,
   "metadata": {},
   "outputs": [],
   "source": [
    "us = 'MinAmbienteCo'\n",
    "list_of_tweets = []\n",
    "c=0\n",
    "consul = tweepy.Cursor(api.search, q='to:'+str(us)+' @'+str(us)).items()\n",
    "for tweet in consul:\n",
    "    dict_ = {'User': tweet.user.name,\n",
    "             'User_Name': tweet.user.screen_name,\n",
    "             'Date': tweet.created_at,\n",
    "             'Text': tweet.text\n",
    "            }\n",
    "    list_of_tweets.append(dict_)\n",
    "    #c+=1\n",
    "    #print('add '+str(c))\n",
    "    \n",
    "df2 = pd.DataFrame(list_of_tweets, columns=['User', 'User_Name', 'Date', 'Text'])\n",
    "\n",
    "df2"
   ]
  },
  {
   "cell_type": "code",
   "execution_count": null,
   "metadata": {},
   "outputs": [],
   "source": [
    "fig, axes = plt.subplots(figsize=(20, 10))\n",
    "df3 = df2\n",
    "df3['Date'] = df3['Date'].astype(str).str[:10]\n",
    "df3 = df3['Date'].value_counts()\n",
    "df3 = df3.rename_axis('Date').reset_index(name='Count')\n",
    "df3['Date'] = pd.to_datetime(df3.Date)\n",
    "df3.sort_values(by=['Date'], inplace=True, ascending=True)\n",
    "dat = df3['Date']\n",
    "cou = df3['Count']\n",
    "plt.plot(dat, cou)\n",
    "fig.show()"
   ]
  },
  {
   "cell_type": "code",
   "execution_count": null,
   "metadata": {},
   "outputs": [],
   "source": [
    "api = tweepy.API(auth, wait_on_rate_limit=True, wait_on_rate_limit_notify=True)\n",
    "ha = 'fracking'\n",
    "list_of_tweets = []\n",
    "c=0\n",
    "consul = tweepy.Cursor(api.search, q='#'+str(ha), geocode=\"4.6097100,-74.0817500,500km\").items()\n",
    "for tweet in consul:\n",
    "    dict_ = {'User': tweet.user.name,\n",
    "             'User_Name': tweet.user.screen_name,\n",
    "             'Date': tweet.created_at,\n",
    "             'Text': tweet.text\n",
    "            }\n",
    "    list_of_tweets.append(dict_)\n",
    "    #c+=1\n",
    "    #print('add '+str(c))\n",
    "    \n",
    "df4 = pd.DataFrame(list_of_tweets, columns=['User', 'User_Name', 'Date', 'Text'])\n",
    "\n",
    "df4"
   ]
  },
  {
   "cell_type": "code",
   "execution_count": null,
   "metadata": {},
   "outputs": [],
   "source": [
    "fig, axes = plt.subplots(figsize=(30, 20))\n",
    "df5 = df4\n",
    "df5['Date'] = df5['Date'].astype(str).str[:10]\n",
    "df5 = df5['Date'].value_counts()\n",
    "df5 = df5.rename_axis('Date').reset_index(name='Count')\n",
    "df5['Date'] = pd.to_datetime(df5.Date)\n",
    "df5.sort_values(by=['Date'], inplace=True, ascending=True)\n",
    "dat = df5['Date']\n",
    "cou = df5['Count']\n",
    "plt.plot(dat, cou)\n",
    "fig.show()"
   ]
  },
  {
   "cell_type": "code",
   "execution_count": null,
   "metadata": {},
   "outputs": [],
   "source": []
  }
 ],
 "metadata": {
  "kernelspec": {
   "display_name": "Python 3",
   "language": "python",
   "name": "python3"
  },
  "language_info": {
   "codemirror_mode": {
    "name": "ipython",
    "version": 3
   },
   "file_extension": ".py",
   "mimetype": "text/x-python",
   "name": "python",
   "nbconvert_exporter": "python",
   "pygments_lexer": "ipython3",
   "version": "3.7.3"
  }
 },
 "nbformat": 4,
 "nbformat_minor": 2
}
