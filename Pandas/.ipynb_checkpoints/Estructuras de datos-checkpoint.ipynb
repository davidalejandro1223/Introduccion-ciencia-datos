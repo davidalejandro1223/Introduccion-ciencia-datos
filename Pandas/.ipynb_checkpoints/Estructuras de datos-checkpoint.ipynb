{
 "cells": [
  {
   "cell_type": "markdown",
   "metadata": {},
   "source": [
    "### Estructuras de datos\n",
    "    - series -> index \n",
    "    - dataframe -> index\n",
    "    \n",
    "    Tanto las series como los dataframe deben tener un indice en pandas\n",
    "    los indices se pueden repetir (no es como tal una llave)\n",
    "    \n",
    "    ej:\n",
    "        dataframe:\n",
    "        \n",
    "        index    columna1    columna2\n",
    "          0         *            *\n",
    "          1         *            *\n",
    "          .\n",
    "          .\n",
    "          .\n",
    "          .\n",
    "          .\n",
    "          n          *            *\n",
    "          \n",
    "          |---Serie---|"
   ]
  },
  {
   "cell_type": "code",
   "execution_count": 18,
   "metadata": {},
   "outputs": [],
   "source": [
    "import numpy as np\n",
    "import pandas as pd"
   ]
  },
  {
   "cell_type": "markdown",
   "metadata": {},
   "source": [
    "## Series"
   ]
  },
  {
   "cell_type": "code",
   "execution_count": 2,
   "metadata": {},
   "outputs": [
    {
     "name": "stdout",
     "output_type": "stream",
     "text": [
      "0    0.949599\n",
      "1    0.148797\n",
      "2    0.651705\n",
      "3    0.550793\n",
      "4    0.109610\n",
      "dtype: float64\n"
     ]
    }
   ],
   "source": [
    "#creacion de una serie en pandas\n",
    "serie = pd.Series(np.random.rand(5))\n",
    "print (serie)"
   ]
  },
  {
   "cell_type": "code",
   "execution_count": 3,
   "metadata": {},
   "outputs": [
    {
     "data": {
      "text/plain": [
       "RangeIndex(start=0, stop=5, step=1)"
      ]
     },
     "execution_count": 3,
     "metadata": {},
     "output_type": "execute_result"
    }
   ],
   "source": [
    "//indices de la serie\n",
    "serie.index"
   ]
  },
  {
   "cell_type": "code",
   "execution_count": 4,
   "metadata": {},
   "outputs": [
    {
     "name": "stdout",
     "output_type": "stream",
     "text": [
      "a    0.893511\n",
      "b    0.099166\n",
      "c    0.791254\n",
      "d    0.847943\n",
      "e    0.800866\n",
      "dtype: float64\n"
     ]
    }
   ],
   "source": [
    "#Creacion de una serie especificando los indices\n",
    "serie = pd.Series(np.random.rand(5), index=['a','b','c','d', 'e'])\n",
    "print(serie)"
   ]
  },
  {
   "cell_type": "code",
   "execution_count": 7,
   "metadata": {},
   "outputs": [
    {
     "name": "stdout",
     "output_type": "stream",
     "text": [
      "b    1\n",
      "a    0\n",
      "c    2\n",
      "dtype: int64\n"
     ]
    }
   ],
   "source": [
    "#creacion a partir de un diccionario\n",
    "d = {'b':1, 'a':0, 'c':2}\n",
    "s1 = pd.Series(d)\n",
    "print(s1)"
   ]
  },
  {
   "cell_type": "code",
   "execution_count": 8,
   "metadata": {},
   "outputs": [
    {
     "data": {
      "text/plain": [
       "1"
      ]
     },
     "execution_count": 8,
     "metadata": {},
     "output_type": "execute_result"
    }
   ],
   "source": [
    "#acceso a un valor por indice\n",
    "s1['b']"
   ]
  },
  {
   "cell_type": "code",
   "execution_count": 10,
   "metadata": {},
   "outputs": [
    {
     "data": {
      "text/plain": [
       "e    0.800866\n",
       "d    0.847943\n",
       "b    0.099166\n",
       "dtype: float64"
      ]
     },
     "execution_count": 10,
     "metadata": {},
     "output_type": "execute_result"
    }
   ],
   "source": [
    "#acceso por arreglo de indices\n",
    "serie[[4,3,1]]"
   ]
  },
  {
   "cell_type": "code",
   "execution_count": 11,
   "metadata": {},
   "outputs": [
    {
     "data": {
      "text/plain": [
       "a    0.893511\n",
       "d    0.847943\n",
       "dtype: float64"
      ]
     },
     "execution_count": 11,
     "metadata": {},
     "output_type": "execute_result"
    }
   ],
   "source": [
    "#acceso por condicion\n",
    "serie[serie > serie.median()]"
   ]
  },
  {
   "cell_type": "code",
   "execution_count": 14,
   "metadata": {},
   "outputs": [
    {
     "data": {
      "text/plain": [
       "a    0.893511\n",
       "b    0.099166\n",
       "c    0.791254\n",
       "d    0.847943\n",
       "e    0.800866\n",
       "f    7.000000\n",
       "dtype: float64"
      ]
     },
     "execution_count": 14,
     "metadata": {},
     "output_type": "execute_result"
    }
   ],
   "source": [
    "#agregar registro a la serie\n",
    "serie.append(pd.Series(7, index=['f']))\n"
   ]
  },
  {
   "cell_type": "code",
   "execution_count": 15,
   "metadata": {},
   "outputs": [
    {
     "data": {
      "text/plain": [
       "a    2.443696\n",
       "b    1.104250\n",
       "c    2.206160\n",
       "d    2.334838\n",
       "e    2.227470\n",
       "dtype: float64"
      ]
     },
     "execution_count": 15,
     "metadata": {},
     "output_type": "execute_result"
    }
   ],
   "source": [
    "#operaciones entre series\n",
    "\n",
    "serie + serie\n",
    "serie*2\n",
    "np.exp(serie)"
   ]
  },
  {
   "cell_type": "code",
   "execution_count": 17,
   "metadata": {},
   "outputs": [],
   "source": [
    "#operando como diccionarios\n",
    "'g'in serie\n",
    "serie['g']=3"
   ]
  },
  {
   "cell_type": "code",
   "execution_count": null,
   "metadata": {},
   "outputs": [],
   "source": [
    "#guardar la serie a archivo csv\n",
    "serie.to_csv('serie.csv')"
   ]
  },
  {
   "cell_type": "markdown",
   "metadata": {},
   "source": [
    "## dataframe"
   ]
  },
  {
   "cell_type": "code",
   "execution_count": 25,
   "metadata": {},
   "outputs": [
    {
     "data": {
      "text/html": [
       "<div>\n",
       "<style scoped>\n",
       "    .dataframe tbody tr th:only-of-type {\n",
       "        vertical-align: middle;\n",
       "    }\n",
       "\n",
       "    .dataframe tbody tr th {\n",
       "        vertical-align: top;\n",
       "    }\n",
       "\n",
       "    .dataframe thead th {\n",
       "        text-align: right;\n",
       "    }\n",
       "</style>\n",
       "<table border=\"1\" class=\"dataframe\">\n",
       "  <thead>\n",
       "    <tr style=\"text-align: right;\">\n",
       "      <th></th>\n",
       "      <th>Codigo</th>\n",
       "      <th>nombre</th>\n",
       "      <th>nota</th>\n",
       "    </tr>\n",
       "  </thead>\n",
       "  <tbody>\n",
       "    <tr>\n",
       "      <th>0</th>\n",
       "      <td>20151020060</td>\n",
       "      <td>prueba</td>\n",
       "      <td>5</td>\n",
       "    </tr>\n",
       "    <tr>\n",
       "      <th>1</th>\n",
       "      <td>20151020045</td>\n",
       "      <td>prueba1</td>\n",
       "      <td>5</td>\n",
       "    </tr>\n",
       "    <tr>\n",
       "      <th>2</th>\n",
       "      <td>20151020064</td>\n",
       "      <td>prueba2</td>\n",
       "      <td>5</td>\n",
       "    </tr>\n",
       "  </tbody>\n",
       "</table>\n",
       "</div>"
      ],
      "text/plain": [
       "        Codigo   nombre  nota\n",
       "0  20151020060   prueba     5\n",
       "1  20151020045  prueba1     5\n",
       "2  20151020064  prueba2     5"
      ]
     },
     "execution_count": 25,
     "metadata": {},
     "output_type": "execute_result"
    }
   ],
   "source": [
    "#creacion mediante diccionario\n",
    "\n",
    "dic ={'Codigo': [20151020060, 20151020045, 20151020064], 'nombre':['prueba', 'prueba1', 'prueba2'], 'nota':[5,5,5]}\n",
    "df = pd.DataFrame(dic)\n",
    "df"
   ]
  },
  {
   "cell_type": "code",
   "execution_count": 26,
   "metadata": {},
   "outputs": [
    {
     "data": {
      "text/html": [
       "<div>\n",
       "<style scoped>\n",
       "    .dataframe tbody tr th:only-of-type {\n",
       "        vertical-align: middle;\n",
       "    }\n",
       "\n",
       "    .dataframe tbody tr th {\n",
       "        vertical-align: top;\n",
       "    }\n",
       "\n",
       "    .dataframe thead th {\n",
       "        text-align: right;\n",
       "    }\n",
       "</style>\n",
       "<table border=\"1\" class=\"dataframe\">\n",
       "  <thead>\n",
       "    <tr style=\"text-align: right;\">\n",
       "      <th></th>\n",
       "      <th>Codigo</th>\n",
       "      <th>nombre</th>\n",
       "      <th>nota</th>\n",
       "    </tr>\n",
       "  </thead>\n",
       "  <tbody>\n",
       "    <tr>\n",
       "      <th>0</th>\n",
       "      <td>20151020060</td>\n",
       "      <td>prueba</td>\n",
       "      <td>5</td>\n",
       "    </tr>\n",
       "    <tr>\n",
       "      <th>1</th>\n",
       "      <td>20151020045</td>\n",
       "      <td>prueba1</td>\n",
       "      <td>5</td>\n",
       "    </tr>\n",
       "    <tr>\n",
       "      <th>2</th>\n",
       "      <td>20151020064</td>\n",
       "      <td>prueba2</td>\n",
       "      <td>5</td>\n",
       "    </tr>\n",
       "  </tbody>\n",
       "</table>\n",
       "</div>"
      ],
      "text/plain": [
       "        Codigo   nombre  nota\n",
       "0  20151020060   prueba     5\n",
       "1  20151020045  prueba1     5\n",
       "2  20151020064  prueba2     5"
      ]
     },
     "execution_count": 26,
     "metadata": {},
     "output_type": "execute_result"
    }
   ],
   "source": [
    "df.set_index(['Codigo'])\n",
    "df"
   ]
  },
  {
   "cell_type": "code",
   "execution_count": null,
   "metadata": {},
   "outputs": [],
   "source": []
  }
 ],
 "metadata": {
  "kernelspec": {
   "display_name": "Python 3",
   "language": "python",
   "name": "python3"
  },
  "language_info": {
   "codemirror_mode": {
    "name": "ipython",
    "version": 3
   },
   "file_extension": ".py",
   "mimetype": "text/x-python",
   "name": "python",
   "nbconvert_exporter": "python",
   "pygments_lexer": "ipython3",
   "version": "3.7.3"
  }
 },
 "nbformat": 4,
 "nbformat_minor": 2
}
